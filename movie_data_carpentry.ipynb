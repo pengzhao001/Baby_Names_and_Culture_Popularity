{
 "cells": [
  {
   "cell_type": "markdown",
   "metadata": {},
   "source": [
    "## This notebook is created to clean and merge movie data from different sources\n",
    "## This is a Python 2 notebook since the IMDbPY API only works with Python 2"
   ]
  },
  {
   "cell_type": "markdown",
   "metadata": {
    "collapsed": false
   },
   "source": [
    "* The data for top 100 movies of all time adjusted for inflation was found from this site: http://www.filmsite.org/boxoffice3.htmlCreate \n",
    "* This data is not very structured and lacks the names of cast and characters.\n",
    "* Names for cast and characters were retrieved from IMDb through the IMDbPY API. Please make sure IMDbPY has been installed before running this notebook. http://imdbpy.sourceforge.net/"
   ]
  },
  {
   "cell_type": "code",
   "execution_count": 9,
   "metadata": {
    "collapsed": false
   },
   "outputs": [],
   "source": [
    "from imdb import IMDb\n",
    "import csv\n",
    "import sys  \n",
    "\n",
    "reload(sys)  \n",
    "sys.setdefaultencoding('utf8')\n",
    "\n",
    "start_time = time.time()\n",
    "\n",
    "with open('data/raw_100_films_inflation_adj.csv') as data_in, open('data/movie_data.csv', 'w') as data_out:\n",
    "    writer = csv.writer(data_out, delimiter=',')\n",
    "    writer.writerows([['Rank', 'Title', 'Year', 'Cast', 'Character']])\n",
    "    i = 0\n",
    "    j = 1\n",
    "    im = IMDb()\n",
    "    for row in data_in:\n",
    "        if i%2 == 0: \n",
    "            temp_row = row.split(' (')\n",
    "            temp_row2 = temp_row[1].split(')')\n",
    "            title = temp_row[0]\n",
    "            year = temp_row2[0]\n",
    "\n",
    "            movie = im.search_movie(title)[0]\n",
    "            im.update(movie)\n",
    "            up_limit = len(movie['cast']) if len(movie['cast']) < 10 else 10\n",
    "            \n",
    "            for k in range(0, up_limit):\n",
    "                cast_name = movie['cast'][k]  \n",
    "                character_name = movie['cast'][k].currentRole  \n",
    "                data = [j, title, year, cast_name, character_name]\n",
    "                writer.writerows([data])\n",
    "            j += 1\n",
    "        i += 1\n",
    "        \n",
    "print 'done'"
   ]
  },
  {
   "cell_type": "markdown",
   "metadata": {
    "collapsed": true
   },
   "source": [
    "* The IMDb API returns cast and characters as a person object which doesn't support direct extracting the first names. Thus I took one more step to separate out the first names from the movie_data.csv file "
   ]
  },
  {
   "cell_type": "code",
   "execution_count": 10,
   "metadata": {
    "collapsed": false
   },
   "outputs": [
    {
     "name": "stdout",
     "output_type": "stream",
     "text": [
      "done\n"
     ]
    }
   ],
   "source": [
    "import csv\n",
    "\n",
    "with open('data/movie_data.csv') as data_in, open('data/movie_data_final.csv', 'w') as data_out:\n",
    "    reader = csv.reader(data_in, delimiter=',')\n",
    "    next(reader)\n",
    "    writer = csv.writer(data_out, delimiter=',')\n",
    "    writer.writerows([['Rank', 'Title', 'Year', 'Cast_Name', 'Character_Name']])\n",
    "    for row in reader:\n",
    "        rank = row[0]\n",
    "        title = row[1]\n",
    "        year = row[2]\n",
    "        cast_name = row[3].split(' ')[0]\n",
    "        character_name = row[4].split(' ')[0]\n",
    "        data = [rank, title, year, cast_name, character_name]\n",
    "        writer.writerows([data])\n",
    "        \n",
    "print 'done'\n"
   ]
  },
  {
   "cell_type": "markdown",
   "metadata": {},
   "source": [
    "* In the original data, movie \"Close Encounters of the Third Kind\" has year \"1977/1980\" and was corrected to 1977 manually"
   ]
  },
  {
   "cell_type": "code",
   "execution_count": null,
   "metadata": {
    "collapsed": true
   },
   "outputs": [],
   "source": []
  }
 ],
 "metadata": {
  "kernelspec": {
   "display_name": "Python 2",
   "language": "python",
   "name": "python2"
  },
  "language_info": {
   "codemirror_mode": {
    "name": "ipython",
    "version": 2
   },
   "file_extension": ".py",
   "mimetype": "text/x-python",
   "name": "python",
   "nbconvert_exporter": "python",
   "pygments_lexer": "ipython2",
   "version": "2.7.11"
  }
 },
 "nbformat": 4,
 "nbformat_minor": 0
}
